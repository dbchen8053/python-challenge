{
 "cells": [
  {
   "cell_type": "code",
   "execution_count": 1,
   "metadata": {},
   "outputs": [],
   "source": [
    "import os\n",
    "import csv\n",
    "\n",
    "csvpath = os.path.join('.', 'budget_data.csv')\n",
    "\n",
    "\n",
    "\n",
    "with open(csvpath, newline='') as csvfile:\n",
    "\n",
    "    csvreader = csv.reader(csvfile, delimiter=',')\n",
    "    csv_header = next(csvreader) \n",
    "    \n",
    "    month = []\n",
    "    total = []\n",
    "    change = []\n",
    "\n",
    "    for row in csvreader:\n",
    "        total.append(int(row[1]))\n",
    "        month.append(row[0])\n",
    "    sum_total = sum(total)\n",
    "    month_total = len(total)\n",
    "        \n",
    "    \n",
    "    for i in range(len(total)-1):        \n",
    "        change.append(total[i+1]-total[i])\n",
    "    sum_change = sum(change)\n",
    "    average_change = sum(change)/len(change)\n",
    "    \n",
    "    max_number = max(change)\n",
    "    min_number = min(change)\n",
    "    \n",
    "    max_number_index = change.index(max_number)\n",
    "    min_number_index = change.index(min_number)\n",
    "    \n",
    "    max_number_month = month[max_number_index+1]\n",
    "    min_number_month = month[min_number_index+1]\n",
    "    \n",
    "output_path = os.path.join('.', 'budget_data.txt')\n",
    "with open(output_path, 'w') as txtfile:    \n",
    "    txtfile.write (f\"Financial Analysis\")\n",
    "    txtfile.write ('\\n')\n",
    "    txtfile.write (\"----------------------------\")\n",
    "    txtfile.write ('\\n')\n",
    "    txtfile.write (f\"Total Months: {month_total}\")\n",
    "    txtfile.write ('\\n')\n",
    "    txtfile.write (f\"Total:$ {sum_total}\")\n",
    "    txtfile.write ('\\n')\n",
    "    txtfile.write (f\"Average Change: $ {average_change}\")\n",
    "    txtfile.write ('\\n')\n",
    "    txtfile.write (f\"Greatest Increase in Profits: {max_number_month} (${max_number})\")\n",
    "    txtfile.write ('\\n')\n",
    "    txtfile.write (f\"Greatest Decrease in Profits: {min_number_month} (${min_number})\")\n",
    "    txtfile.write ('\\n')\n",
    "\n",
    "    \n",
    "\n",
    "\n"
   ]
  },
  {
   "cell_type": "code",
   "execution_count": null,
   "metadata": {},
   "outputs": [],
   "source": []
  },
  {
   "cell_type": "code",
   "execution_count": null,
   "metadata": {},
   "outputs": [],
   "source": []
  }
 ],
 "metadata": {
  "kernelspec": {
   "display_name": "Python 3",
   "language": "python",
   "name": "python3"
  },
  "language_info": {
   "codemirror_mode": {
    "name": "ipython",
    "version": 3
   },
   "file_extension": ".py",
   "mimetype": "text/x-python",
   "name": "python",
   "nbconvert_exporter": "python",
   "pygments_lexer": "ipython3",
   "version": "3.7.1"
  }
 },
 "nbformat": 4,
 "nbformat_minor": 2
}
